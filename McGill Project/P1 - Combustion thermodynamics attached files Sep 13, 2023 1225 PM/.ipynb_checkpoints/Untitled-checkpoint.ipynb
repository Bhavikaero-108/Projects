{
 "cells": [
  {
   "cell_type": "code",
   "execution_count": 1,
   "id": "8cfd1a9b-9391-47ee-a410-58af93520609",
   "metadata": {},
   "outputs": [],
   "source": [
    "import math\n",
    "import numpy as np\n",
    "import matplotlib.pyplot as plt"
   ]
  },
  {
   "cell_type": "code",
   "execution_count": 2,
   "id": "80634191-3b81-482b-a341-5adb6b65623f",
   "metadata": {},
   "outputs": [
    {
     "name": "stdout",
     "output_type": "stream",
     "text": [
      "Entropy of  O2  at  298 K:  205.13344991630754  J/mol\n",
      "Enthalpy of  O2  at  298 K:  -4.406684233742955  J/mol\n",
      "Specific heat of  O2  at  298 K:  29.377442521060257  J/mol\n"
     ]
    }
   ],
   "source": [
    "import ThermoPropertiesNASA as Ext"
   ]
  },
  {
   "cell_type": "code",
   "execution_count": 3,
   "id": "e537b9c6-15ae-44d1-98b6-adf6a9e8841e",
   "metadata": {},
   "outputs": [],
   "source": [
    "const_HF_h2o = -286000\n",
    "const_Ru = 8.314"
   ]
  },
  {
   "cell_type": "code",
   "execution_count": 12,
   "id": "a252ba3d-f478-4078-88cb-8b6543d36ab0",
   "metadata": {},
   "outputs": [
    {
     "name": "stdout",
     "output_type": "stream",
     "text": [
      "Kp of above equation at 300 K:2.984904145240478e+47\n",
      "Kp of above equation at 328 K:1.5038585058761885e+43\n",
      "Kp of above equation at 356 K:3.5628145279971624e+39\n",
      "Kp of above equation at 384 K:2.832120887879278e+36\n",
      "Kp of above equation at 412 K:5.906759131533365e+33\n",
      "Kp of above equation at 440 K:2.6904107175134243e+31\n",
      "Kp of above equation at 468 K:2.3273222837494235e+29\n",
      "Kp of above equation at 496 K:3.431339586826822e+27\n",
      "Kp of above equation at 524 K:7.918835869770838e+25\n",
      "Kp of above equation at 552 K:2.672732482584293e+24\n",
      "Kp of above equation at 580 K:1.248919731410117e+23\n",
      "Kp of above equation at 608 K:7.726162091821039e+21\n",
      "Kp of above equation at 636 K:6.098519916140902e+20\n",
      "Kp of above equation at 664 K:5.956547237853441e+19\n",
      "Kp of above equation at 692 K:7.016246787927908e+18\n",
      "Kp of above equation at 720 K:9.752598950271416e+17\n",
      "Kp of above equation at 748 K:1.5704220581661965e+17\n",
      "Kp of above equation at 776 K:2.8835265776704344e+16\n",
      "Kp of above equation at 804 K:5955640380539698.0\n",
      "Kp of above equation at 832 K:1367441415399663.0\n",
      "Kp of above equation at 860 K:345467659643080.44\n",
      "Kp of above equation at 888 K:95175628724128.55\n",
      "Kp of above equation at 916 K:28368588150093.688\n",
      "Kp of above equation at 944 K:9084878086254.596\n",
      "Kp of above equation at 972 K:3106626083613.055\n",
      "Kp of above equation at 1000 K:1128134628443.9736\n",
      "Kp of above equation at 1028 K:432927680124.99603\n",
      "Kp of above equation at 1056 K:174809883914.35532\n",
      "Kp of above equation at 1084 K:73979787335.60925\n",
      "Kp of above equation at 1112 K:32698381487.597363\n",
      "Kp of above equation at 1140 K:15046099869.638355\n",
      "Kp of above equation at 1168 K:7187133588.809948\n",
      "Kp of above equation at 1196 K:3554570662.95626\n",
      "Kp of above equation at 1224 K:1815877971.422397\n",
      "Kp of above equation at 1252 K:956123787.8240385\n",
      "Kp of above equation at 1280 K:517858352.1540404\n",
      "Kp of above equation at 1308 K:287999414.05643547\n",
      "Kp of above equation at 1336 K:164185834.71490836\n",
      "Kp of above equation at 1364 K:95803556.64112954\n",
      "Kp of above equation at 1392 K:57137429.3161509\n",
      "Kp of above equation at 1420 K:34784984.44221099\n",
      "Kp of above equation at 1448 K:21591212.2015792\n",
      "Kp of above equation at 1476 K:13648893.107649338\n",
      "Kp of above equation at 1504 K:8778283.051596649\n",
      "Kp of above equation at 1532 K:5738551.040655502\n",
      "Kp of above equation at 1560 K:3809724.576725044\n",
      "Kp of above equation at 1588 K:2566424.5851896936\n",
      "Kp of above equation at 1616 K:1752977.9477732743\n",
      "Kp of above equation at 1644 K:1213191.2113092395\n",
      "Kp of above equation at 1672 K:850157.3347214693\n",
      "Kp of above equation at 1700 K:602861.9390152416\n",
      "Kp of above equation at 1728 K:432348.09413161036\n",
      "Kp of above equation at 1756 K:313408.6253953701\n",
      "Kp of above equation at 1784 K:229524.67126400783\n",
      "Kp of above equation at 1812 K:169739.04602370938\n",
      "Kp of above equation at 1840 K:126699.11568112491\n",
      "Kp of above equation at 1868 K:95416.16947465808\n",
      "Kp of above equation at 1896 K:72469.42935465685\n",
      "Kp of above equation at 1924 K:55489.4061511924\n",
      "Kp of above equation at 1952 K:42818.83735003294\n",
      "Kp of above equation at 1980 K:33287.79605272788\n",
      "Kp of above equation at 2008 K:26063.002311021137\n",
      "Kp of above equation at 2036 K:20545.863949934635\n",
      "Kp of above equation at 2064 K:16302.839456782443\n",
      "Kp of above equation at 2092 K:13017.446477340442\n",
      "Kp of above equation at 2120 K:10456.900271156\n",
      "Kp of above equation at 2148 K:8448.728406739585\n",
      "Kp of above equation at 2176 K:6864.246603995651\n",
      "Kp of above equation at 2204 K:5606.792262179391\n",
      "Kp of above equation at 2232 K:4603.283310767447\n",
      "Kp of above equation at 2260 K:3798.119063411422\n",
      "Kp of above equation at 2288 K:3148.7427203650004\n",
      "Kp of above equation at 2316 K:2622.3912164013695\n",
      "Kp of above equation at 2344 K:2193.699338184028\n",
      "Kp of above equation at 2372 K:1842.9225572074508\n",
      "Kp of above equation at 2400 K:1554.610854819181\n",
      "Kp of above equation at 2428 K:1316.6133249616728\n",
      "Kp of above equation at 2456 K:1119.3268416235567\n",
      "Kp of above equation at 2484 K:955.125856560933\n",
      "Kp of above equation at 2512 K:817.9273775076607\n",
      "Kp of above equation at 2540 K:702.8573835429864\n",
      "Kp of above equation at 2568 K:605.9937590009463\n",
      "Kp of above equation at 2596 K:524.1672440043981\n",
      "Kp of above equation at 2624 K:454.80659158731834\n",
      "Kp of above equation at 2652 K:395.8175706882834\n",
      "Kp of above equation at 2680 K:345.4880034878228\n",
      "Kp of above equation at 2708 K:302.412919152923\n",
      "Kp of above equation at 2736 K:265.4353196353713\n",
      "Kp of above equation at 2764 K:233.59911351427502\n",
      "Kp of above equation at 2792 K:206.1115729766593\n",
      "Kp of above equation at 2820 K:182.31327399930845\n",
      "Kp of above equation at 2848 K:161.65393982265118\n",
      "Kp of above equation at 2876 K:143.67295912634512\n",
      "Kp of above equation at 2904 K:127.98361974031259\n",
      "Kp of above equation at 2932 K:114.26030618733205\n",
      "Kp of above equation at 2960 K:102.22806973870505\n",
      "Kp of above equation at 2988 K:91.6541041348655\n"
     ]
    },
    {
     "data": {
      "image/png": "[encoded data removed]",
      "text/plain": [
       "<Figure size 640x480 with 1 Axes>"
      ]
     },
     "metadata": {},
     "output_type": "display_data"
    }
   ],
   "source": [
    "def Del_Gh20(T):\n",
    "    thermo_o2 = Ext.thermo('O2',32)\n",
    "    thermo_h2o = Ext.thermo('H2O',18)\n",
    "    thermo_h2 = Ext.thermo('H2',2)\n",
    "    return (const_HF_h2o - T * thermo_h2o.s_mole(T) - ( 1* ( -T * thermo_h2.s_mole(T)) + 1/2 * ( -T * thermo_o2.s_mole(T) )))\n",
    "Kp_list_h20 = []\n",
    "Temp_list_h20 = []\n",
    "for Temp in range(300,3000,28):\n",
    "    #print(Del_G0(Temp))   \n",
    "    Kp = np.exp(-1 * (Del_Gh20(Temp) / (const_Ru*Temp)))\n",
    "    print(f'Kp of above equation at {str(Temp)} K:{Kp}')\n",
    "    Kp_list_h20.append(Kp)\n",
    "    y= 1000/Temp\n",
    "    Temp_list_h20.append(y)\n",
    "def Del_GhxNo(T):\n",
    "    thermo_o2 = Ext.thermo('O2',32)\n",
    "    thermo_xNo = Ext.thermo('XNO',30)\n",
    "    thermo_n2 = Ext.thermo('N2',28)\n",
    "    return (const_HF_xNo - T * thermo_xNo.s_mole(T) - ( 1/2* ( -T * thermo_n2.s_mole(T)) + 1/2 * ( -T * thermo_o2.s_mole(T) )))\n",
    "Kp_list_xNo = []\n",
    "Temp_list_xNo = []\n",
    "for Temp in range(300,3000,28):\n",
    "    #print(Del_G0(Temp))   \n",
    "    Kp = np.exp(-1 * (Del_Gh20(Temp) / (const_Ru*Temp)))\n",
    "    print(f'Kp of above equation at {str(Temp)} K:{Kp}')\n",
    "    Kp_list_xNo.append(Kp)\n",
    "    y= 1000/Temp\n",
    "    Temp_list_xNo.append(y)\n",
    "plt.plot(Temp_list,Kp_list,color='red')\n",
    "plt.semilogy()\n",
    "plt.show()\n",
    "    \n",
    "    \n"
   ]
  },
  {
   "cell_type": "code",
   "execution_count": null,
   "id": "13463427-570a-4fd2-8cff-34a23b95547a",
   "metadata": {},
   "outputs": [],
   "source": []
  },
  {
   "cell_type": "code",
   "execution_count": null,
   "id": "3383a615-b287-426d-a8b6-231624b9db30",
   "metadata": {},
   "outputs": [],
   "source": []
  }
 ],
 "metadata": {
  "kernelspec": {
   "display_name": "Python 3 (ipykernel)",
   "language": "python",
   "name": "python3"
  },
  "language_info": {
   "codemirror_mode": {
    "name": "ipython",
    "version": 3
   },
   "file_extension": ".py",
   "mimetype": "text/x-python",
   "name": "python",
   "nbconvert_exporter": "python",
   "pygments_lexer": "ipython3",
   "version": "3.11.3"
  }
 },
 "nbformat": 4,
 "nbformat_minor": 5
}
