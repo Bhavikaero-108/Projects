{
 "cells": [
  {
   "cell_type": "code",
   "execution_count": 4,
   "id": "4fd315a8-5664-40ad-8fc2-2a45440970bb",
   "metadata": {},
   "outputs": [],
   "source": [
    "import yaml\n",
    "import numpy as np\n",
    "\n",
    "class thermo:\n",
    "    \n",
    "    def __init__(self, species, MW) :\n",
    "        \"\"\"\n",
    "        species: input string name of species in thermoData.yaml\n",
    "        M: input (species molecular weight, kg/kmol)\n",
    "        \"\"\"\n",
    "        \n",
    "        self.Rgas = 8.31446      # J/mol*K\n",
    "        self.M    = MW\n",
    "    \n",
    "        with open(\"thermoDataNASA-9.yaml\") as yfile:\n",
    "           yfile = yaml.safe_load(yfile)\n",
    "        \n",
    "        self.a_lo = yfile[species][\"a_lo\"]\n",
    "        self.a_hi = yfile[species][\"a_hi\"]\n",
    "        \n",
    "        self.T_lo = 200.\n",
    "        self.T_mid = 1000.\n",
    "        self.T_hi = 6000.\n",
    "        \n",
    "    def cymalalo(self) :\n",
    "        return self.a_lo\n",
    "\n",
    "    def cymalahi(self) :\n",
    "        return self.a_hi\n",
    "\n",
    "    def cp_mole(self,T) :\n",
    "        \"\"\"\n",
    "        return calorific value at cst p in units J/mol/K\n",
    "        T: input (K)\n",
    "        \"\"\"\n",
    "        if T<=self.T_mid and T>=self.T_lo :\n",
    "            a = self.a_lo\n",
    "        elif T>self.T_mid and T<=self.T_hi :\n",
    "            a = self.a_hi\n",
    "        else :\n",
    "            print (\"ERROR: temperature is out of range\")\n",
    "\n",
    "        cp = a[0]/T**2 + a[1]/T + a[2] + a[3]*T + a[4]*T**2.0 + a[5]*T**3 + a[6]*T**4\n",
    "        \n",
    "        return cp * self.Rgas\n",
    "        \n",
    "    #--------------------------------------------------------\n",
    "\n",
    "    def cp_mass(self,T) :\n",
    "        \"\"\"\n",
    "        return calorific value at cst P in units of kJ/kg/K\n",
    "        T: input (K)\n",
    "        \"\"\"\n",
    "        return self.cp_mole(T)/self.M\n",
    "\n",
    "    #--------------------------------------------------------\n",
    "    \n",
    "    def h_mole(self,T) :\n",
    "        \"\"\"\n",
    "        return enthalpy in units of J/mol\n",
    "        T: input (K)\n",
    "        \"\"\"\n",
    "        if T<=self.T_mid and T>=self.T_lo :\n",
    "            a = self.a_lo\n",
    "        elif T>self.T_mid and T<=self.T_hi :\n",
    "            a = self.a_hi\n",
    "        else :\n",
    "            print (\"ERROR: temperature is out of range\")\n",
    "\n",
    "        hrt = -a[0]/T**2 + a[1]*np.log(T)/T + a[2] + a[3]/2*T + a[4]/3*T**2.0 + a[5]/4*T**3 + a[6]/5*T**4 + a[7]/T\n",
    "        \n",
    "        return hrt * self.Rgas * T\n",
    "        \n",
    "    #--------------------------------------------------------\n",
    "\n",
    "    def h_mass(self,T) :\n",
    "        \"\"\"\n",
    "        return enthalpy in units of kJ/kg\n",
    "        T: input (K)\n",
    "        \"\"\"\n",
    "        return self.h_mole(T)/self.M\n",
    "\n",
    "    #--------------------------------------------------------\n",
    "        \n",
    "    def s_mole(self,T) :\n",
    "        \"\"\"\n",
    "        return entropy in units of J/mol/K\n",
    "        T: input (K)\n",
    "        \"\"\"\n",
    "        if T<=self.T_mid and T>=self.T_lo :\n",
    "            a = self.a_lo\n",
    "        elif T>self.T_mid and T<=self.T_hi :\n",
    "            a = self.a_hi\n",
    "        else :\n",
    "            print (\"ERROR: temperature is out of range\")\n",
    "        \n",
    "        sr = -a[0]/2/T**2 - a[1]/T + a[2]*np.log(T) + a[3]*T + a[4]/2.0*T**2.0 + a[5]/3.0*T**3.0+ a[6]/4.0*T**4.0+ a[8]\n",
    "        \n",
    "        return sr * self.Rgas\n",
    "        \n",
    "    #--------------------------------------------------------\n",
    "\n",
    "    def s_mass(self,T) :\n",
    "        \"\"\"\n",
    "        return entropy in units of kJ/kg/K\n",
    "        T: input (K)\n",
    "        \"\"\"\n",
    "        return self.s_mole(T)/self.M"
   ]
  },
  {
   "cell_type": "code",
   "execution_count": 5,
   "id": "ce06f6e5",
   "metadata": {},
   "outputs": [
    {
     "name": "stdout",
     "output_type": "stream",
     "text": [
      "Entropy of N2 at 298.15 K: 191.60855931163846 J/mol\n"
     ]
    }
   ],
   "source": [
    "Molecule = \"N2\"\n",
    "MW_molecule = 14\n",
    "\n",
    "t = thermo(Molecule,MW_molecule) \n",
    "Temperature = 298.15\n",
    "print(f'Entropy of {Molecule} at {str(Temperature)} K: {t.s_mole(Temperature)} J/mol')"
   ]
  },
  {
   "cell_type": "code",
   "execution_count": 6,
   "id": "6f393ddb",
   "metadata": {},
   "outputs": [
    {
     "name": "stdout",
     "output_type": "stream",
     "text": [
      "Entropy of O2 at 298.15 K: 205.14823368386573 J/mol\n"
     ]
    }
   ],
   "source": [
    "Molecule = \"O2\"\n",
    "MW_molecule = 16\n",
    "\n",
    "t = thermo(Molecule,MW_molecule) \n",
    "Temperature = 298.15\n",
    "print(f'Entropy of {Molecule} at {str(Temperature)} K: {t.s_mole(Temperature)} J/mol')"
   ]
  },
  {
   "cell_type": "code",
   "execution_count": 7,
   "id": "b73b4360-70a4-4ebb-a36e-0e6dbd7f5a36",
   "metadata": {},
   "outputs": [
    {
     "name": "stdout",
     "output_type": "stream",
     "text": [
      "Entropy of CO2 at 298.15 K: 213.78611511544437 J/mol\n"
     ]
    }
   ],
   "source": [
    "Molecule = \"CO2\"\n",
    "MW_molecule = 44\n",
    "\n",
    "t = thermo(Molecule,MW_molecule) \n",
    "Temperature = 298.15\n",
    "print(f'Entropy of {Molecule} at {str(Temperature)} K: {t.s_mole(Temperature)} J/mol')"
   ]
  },
  {
   "cell_type": "code",
   "execution_count": 8,
   "id": "a87fdf6d-7654-49a9-9991-669b83f44af3",
   "metadata": {},
   "outputs": [
    {
     "name": "stdout",
     "output_type": "stream",
     "text": [
      "Entropy of H2O at 298.15 K: 188.8279799776917 J/mol\n"
     ]
    }
   ],
   "source": [
    "Molecule = \"H2O\"\n",
    "MW_molecule = 18\n",
    "\n",
    "t = thermo(Molecule,MW_molecule) \n",
    "Temperature = 298.15\n",
    "print(f'Entropy of {Molecule} at {str(Temperature)} K: {t.s_mole(Temperature)} J/mol')"
   ]
  },
  {
   "cell_type": "code",
   "execution_count": 9,
   "id": "c0903219-b747-4d0b-b402-6c19c304e3db",
   "metadata": {},
   "outputs": [
    {
     "name": "stdout",
     "output_type": "stream",
     "text": [
      "Entropy of CO at 298.16 K: 197.6596085379824 J/mol\n"
     ]
    }
   ],
   "source": [
    "Molecule = \"CO\"\n",
    "MW_molecule = 28\n",
    "\n",
    "t = thermo(Molecule,MW_molecule) \n",
    "Temperature = 298.16 ##(CAN I CHANGE SPECIES WITH ADDING ARRAY AND IN ONE CODE ONLY)\n",
    "print(f'Entropy of {Molecule} at {str(Temperature)} K: {t.s_mole(Temperature)} J/mol')"
   ]
  },
  {
   "cell_type": "code",
   "execution_count": 10,
   "id": "87c82a1e-8d9a-4bd3-b7df-1e63016956fe",
   "metadata": {},
   "outputs": [
    {
     "name": "stdout",
     "output_type": "stream",
     "text": [
      "Entropy of H2 at 298.15 K: 130.68022841674744 J/mol\n"
     ]
    }
   ],
   "source": [
    "Molecule = \"H2\"\n",
    "MW_molecule = 2\n",
    "\n",
    "t = thermo(Molecule,MW_molecule) \n",
    "Temperature = 298.15\n",
    "print(f'Entropy of {Molecule} at {str(Temperature)} K: {t.s_mole(Temperature)} J/mol')"
   ]
  },
  {
   "cell_type": "code",
   "execution_count": 11,
   "id": "c13e3284-2f3f-4c57-a444-45f823a370f6",
   "metadata": {},
   "outputs": [
    {
     "name": "stdout",
     "output_type": "stream",
     "text": [
      "Entropy of xNO at 298.15 K: 210.74669282421232 J/mol\n"
     ]
    }
   ],
   "source": [
    "Molecule = \"xNO\"\n",
    "MW_molecule = 30\n",
    "\n",
    "t = thermo(Molecule,MW_molecule) \n",
    "Temperature = 298.15\n",
    "print(f'Entropy of {Molecule} at {str(Temperature)} K: {t.s_mole(Temperature)} J/mol')"
   ]
  },
  {
   "cell_type": "code",
   "execution_count": 12,
   "id": "b7be77d0-d767-4518-a6f4-569a26d56793",
   "metadata": {},
   "outputs": [
    {
     "name": "stdout",
     "output_type": "stream",
     "text": [
      "Entropy of C at 298.15 K: 158.1000070393054 J/mol\n"
     ]
    }
   ],
   "source": [
    "Molecule = \"C\"\n",
    "MW_molecule = 12\n",
    "\n",
    "t = thermo(Molecule,MW_molecule) \n",
    "Temperature = 298.15\n",
    "print(f'Entropy of {Molecule} at {str(Temperature)} K: {t.s_mole(Temperature)} J/mol')"
   ]
  },
  {
   "cell_type": "code",
   "execution_count": 13,
   "id": "9e279d05",
   "metadata": {},
   "outputs": [
    {
     "name": "stdout",
     "output_type": "stream",
     "text": [
      "Entropy of N2 at 2000 K: 252.0731314099827 J/mol\n",
      "Entropy of O2 at 2000 K: 268.7704738895574 J/mol\n",
      "Entropy of CO2 at 2000 K: 309.2879623388743 J/mol\n",
      "Entropy of H2O at 2000 K: 264.9168012902104 J/mol\n",
      "Entropy of CO at 2000 K: 258.71217188508786 J/mol\n",
      "Entropy of H2 at 2000 K: 188.4172331388416 J/mol\n",
      "Entropy of xNO at 2000 K: 273.1332461258387 J/mol\n",
      "Entropy of C at 2000 K: 197.71349783750927 J/mol\n"
     ]
    }
   ],
   "source": [
    "Molecule = \"N2\"\n",
    "MW_molecule = 14\n",
    "\n",
    "t = thermo(Molecule,MW_molecule) \n",
    "Temperature = 2000\n",
    "print(f'Entropy of {Molecule} at {str(Temperature)} K: {t.s_mole(Temperature)} J/mol')\n",
    "\n",
    "Molecule = \"O2\"\n",
    "MW_molecule = 2000\n",
    "\n",
    "t = thermo(Molecule,MW_molecule) \n",
    "Temperature = 2000\n",
    "print(f'Entropy of {Molecule} at {str(Temperature)} K: {t.s_mole(Temperature)} J/mol')\n",
    "\n",
    "Molecule = \"CO2\"\n",
    "MW_molecule = 44\n",
    "\n",
    "t = thermo(Molecule,MW_molecule) \n",
    "Temperature = 2000\n",
    "print(f'Entropy of {Molecule} at {str(Temperature)} K: {t.s_mole(Temperature)} J/mol')\n",
    "\n",
    "Molecule = \"H2O\"\n",
    "MW_molecule = 18\n",
    "\n",
    "t = thermo(Molecule,MW_molecule) \n",
    "Temperature = 2000\n",
    "print(f'Entropy of {Molecule} at {str(Temperature)} K: {t.s_mole(Temperature)} J/mol')\n",
    "\n",
    "Molecule = \"CO\"\n",
    "MW_molecule = 28\n",
    "\n",
    "t = thermo(Molecule,MW_molecule) \n",
    "Temperature = 2000\n",
    "print(f'Entropy of {Molecule} at {str(Temperature)} K: {t.s_mole(Temperature)} J/mol')\n",
    "\n",
    "Molecule = \"H2\"\n",
    "MW_molecule = 2\n",
    "\n",
    "t = thermo(Molecule,MW_molecule) \n",
    "Temperature = 2000\n",
    "print(f'Entropy of {Molecule} at {str(Temperature)} K: {t.s_mole(Temperature)} J/mol')\n",
    "\n",
    "Molecule = \"xNO\"\n",
    "MW_molecule = 30\n",
    "\n",
    "t = thermo(Molecule,MW_molecule) \n",
    "Temperature = 2000\n",
    "print(f'Entropy of {Molecule} at {str(Temperature)} K: {t.s_mole(Temperature)} J/mol')\n",
    "\n",
    "Molecule = \"C\"\n",
    "MW_molecule = 12\n",
    "\n",
    "t = thermo(Molecule,MW_molecule) \n",
    "Temperature = 2000\n",
    "print(f'Entropy of {Molecule} at {str(Temperature)} K: {t.s_mole(Temperature)} J/mol')"
   ]
  }
 ],
 "metadata": {
  "kernelspec": {
   "display_name": "Python 3 (ipykernel)",
   "language": "python",
   "name": "python3"
  },
  "language_info": {
   "codemirror_mode": {
    "name": "ipython",
    "version": 3
   },
   "file_extension": ".py",
   "mimetype": "text/x-python",
   "name": "python",
   "nbconvert_exporter": "python",
   "pygments_lexer": "ipython3",
   "version": "3.11.5"
  }
 },
 "nbformat": 4,
 "nbformat_minor": 5
}
