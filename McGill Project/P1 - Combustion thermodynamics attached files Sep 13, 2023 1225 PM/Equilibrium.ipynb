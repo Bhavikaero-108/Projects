{
 "cells": [
  {
   "cell_type": "code",
   "execution_count": 2,
   "id": "d65f423e-f619-4248-bc3d-80ce8dd92a05",
   "metadata": {},
   "outputs": [],
   "source": [
    "import cantera as ct \n",
    "import math\n",
    "import numpy as np\n",
    "import matplotlib.pyplot as plt"
   ]
  },
  {
   "cell_type": "code",
   "execution_count": 9,
   "id": "db7baa93-b1d5-4b4d-9e20-192f34e3486b",
   "metadata": {},
   "outputs": [],
   "source": []
  },
  {
   "cell_type": "code",
   "execution_count": 3,
   "id": "fa245695-e52f-4023-8216-c8839477ed95",
   "metadata": {},
   "outputs": [
    {
     "name": "stdout",
     "output_type": "stream",
     "text": [
      "\n",
      "  gas:\n",
      "\n",
      "       temperature   300 K\n",
      "          pressure   1.0133e+05 Pa\n",
      "           density   1.2009 kg/m^3\n",
      "  mean mol. weight   29.562 kg/kmol\n",
      "   phase of matter   gas\n",
      "\n",
      "                          1 kg             1 kmol     \n",
      "                     ---------------   ---------------\n",
      "          enthalpy            -61085       -1.8058e+06  J\n",
      "   internal energy       -1.4546e+05       -4.3002e+06  J\n",
      "           entropy            6802.3        2.0109e+05  J/K\n",
      "    Gibbs function       -2.1018e+06       -6.2133e+07  J\n",
      " heat capacity c_p            1030.7             30470  J/K\n",
      " heat capacity c_v            749.45             22156  J/K\n",
      "\n",
      "                      mass frac. Y      mole frac. X     chem. pot. / RT\n",
      "                     ---------------   ---------------   ---------------\n",
      "                N2            0.7423           0.78333           -23.277\n",
      "                O2            0.2255           0.20833            -26.23\n",
      "           IXC8H18          0.032201         0.0083333           -145.35\n",
      "     [ +114 minor]                 0                 0  \n",
      "\n"
     ]
    }
   ],
   "source": [
    "gas = ct.Solution('Jerzembeck.yaml')\n",
    "gas.X = {'IXC8H18':1,'O2':25,'N2':94} \n",
    "gas.TP = 300,ct.one_atm\n",
    "gas()"
   ]
  },
  {
   "cell_type": "code",
   "execution_count": 4,
   "id": "1e739782-553a-43cf-8532-795b2d9018d2",
   "metadata": {},
   "outputs": [
    {
     "data": {
      "text/plain": [
       "1511.3396861837196"
      ]
     },
     "execution_count": 4,
     "metadata": {},
     "output_type": "execute_result"
    }
   ],
   "source": [
    "gas.equilibrate('HP')\n",
    "gas.T\n",
    "\n"
   ]
  }
 ],
 "metadata": {
  "kernelspec": {
   "display_name": "Python 3 (ipykernel)",
   "language": "python",
   "name": "python3"
  },
  "language_info": {
   "codemirror_mode": {
    "name": "ipython",
    "version": 3
   },
   "file_extension": ".py",
   "mimetype": "text/x-python",
   "name": "python",
   "nbconvert_exporter": "python",
   "pygments_lexer": "ipython3",
   "version": "3.11.5"
  }
 },
 "nbformat": 4,
 "nbformat_minor": 5
}
