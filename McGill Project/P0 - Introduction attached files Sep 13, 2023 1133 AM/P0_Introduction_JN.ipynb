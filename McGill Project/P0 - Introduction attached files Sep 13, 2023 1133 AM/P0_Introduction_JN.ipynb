{
 "cells": [
  {
   "cell_type": "markdown",
   "metadata": {},
   "source": [
    "# <center style=\"font-size:140%;\"> Report - Project #0 - Software Installation"
   ]
  },
  {
   "cell_type": "markdown",
   "metadata": {},
   "source": [
    "<center>\n",
    "<span style=\"font-size:160%;\">**McGill University, Montreal** </span> <br>\n",
    "MECH(447|652) - Dynamics of Combustion <br>\n",
    "Project #0\n",
    "</center>"
   ]
  },
  {
   "cell_type": "markdown",
   "metadata": {},
   "source": [
    "<center>Submitted to \n",
    "<center>**Prof, Jeffrey Bergthorson**\n",
    "<center>by\n",
    "<center>**Student Name (Student Number)**"
   ]
  },
  {
   "cell_type": "markdown",
   "metadata": {},
   "source": [
    "<center> *(Month day, year)*\n",
    "<center>Montreal, Quebec, Canada"
   ]
  },
  {
   "cell_type": "markdown",
   "metadata": {},
   "source": [
    "## Table of Content"
   ]
  },
  {
   "cell_type": "markdown",
   "metadata": {},
   "source": [
    "* [Introduction](#Introduction)\n",
    "\n",
    "* [Part 1 - General Information](#Part-1---General-Information) \n",
    "* [Part 2 - Software](#Part-2---Software) \n",
    "    * [2.1 Jupyter Notebook](#2.1-Jupyter-Notebook)\n",
    "    * [2.2 Cantera](#2.2-Cantera)\n",
    "* [Part 3 - Questions](#Part-3---Questions)\n",
    "* [Conclusion](#Conclusion)"
   ]
  },
  {
   "cell_type": "markdown",
   "metadata": {},
   "source": [
    "## Introduction"
   ]
  },
  {
   "cell_type": "markdown",
   "metadata": {},
   "source": [
    "Project 0 is an introduction to the tools used in the other projects during the semester. The objective of Project 0 is to ensure that everyone is able to run every element necessary for future projects:\n",
    "* Jupyter Notebook\n",
    "* Python\n",
    "* Cantera\n",
    "\n",
    "You will also have to solve few basic problems.  (See below.)"
   ]
  },
  {
   "cell_type": "markdown",
   "metadata": {},
   "source": [
    "**Basic packages required for Projects**\n",
    "\n",
    "The Python kernel is initialized for Cantera, Numpy, and MatplotLib with the commands below."
   ]
  },
  {
   "cell_type": "code",
   "execution_count": null,
   "metadata": {},
   "outputs": [],
   "source": [
    "%matplotlib inline\n",
    "import cantera as ct\n",
    "import numpy as np\n",
    "import matplotlib.pyplot as plt"
   ]
  },
  {
   "cell_type": "markdown",
   "metadata": {},
   "source": [
    "## Part 1 - General Information"
   ]
  },
  {
   "cell_type": "markdown",
   "metadata": {},
   "source": [
    "Here are some useful links for more information about the installation of Anaconda and Cantera, and basic introductions to Python, Jupyter , and Latex. Cantera can also be installed with the Navigator provided with Anaconda.\n",
    "\n",
    "Anaconda: \n",
    "* https://www.anaconda.com/download/ (download distribution)\n",
    "\n",
    "Cantera: \n",
    "* https://cantera.org/documentation/ (installation instruction)\n",
    "* https://anaconda.org/Cantera/cantera (Additional command from Anaconda documentation)\n",
    "\n",
    "Jupyter:\n",
    "* http://maxmelnick.com/2016/04/19/python-beginner-tips-and-tricks.html (basics and shortcuts for Jupyter)\n",
    "* https://github.com/maxmelnick/jupyter_keyboard_shortcuts_snippets/blob/master/Jupyter%20Keyboard%20Shortcuts%20Practice.ipynb (corresponding notebook)\n",
    "\n",
    "Latex:\n",
    "* https://users.dickinson.edu/~richesod/latex/latexcheatsheet.pdf (quick guide)"
   ]
  },
  {
   "cell_type": "markdown",
   "metadata": {},
   "source": [
    "## Part 2 - Software"
   ]
  },
  {
   "cell_type": "markdown",
   "metadata": {},
   "source": [
    "### 2.1 Jupyter Notebook"
   ]
  },
  {
   "cell_type": "markdown",
   "metadata": {},
   "source": [
    "Python 3 should be used for all projects. Ensure that the proper version of Python is used with Anaconda."
   ]
  },
  {
   "cell_type": "code",
   "execution_count": null,
   "metadata": {},
   "outputs": [],
   "source": [
    "import sys\n",
    "print (sys.version)"
   ]
  },
  {
   "cell_type": "markdown",
   "metadata": {},
   "source": [
    "The *%matplotlib inline* (see 1st code cell above) command used at the beginning of the document saves the figures in the document once they are printed. When the document is reopened, the figures will be automatically displayed. \n",
    "\n",
    "If the inline command is not used, the figures won't be displayed. The grader will open your notebook 'as is' and will not recompile it. Points will be deducted if the figures are not displayed.\n",
    "\n",
    "The following code snippet produces a simple plot.  Identify the different variables and functions related to data generation and figure creation. Note how comments can also be added to your code using the hash symbol #."
   ]
  },
  {
   "cell_type": "code",
   "execution_count": null,
   "metadata": {},
   "outputs": [],
   "source": [
    "x = np.arange(0,2*np.pi,0.01)\n",
    "y = np.sin(x)\n",
    "\n",
    "# Plot Definition\n",
    "figId = plt.figure(figsize=(10,4))\n",
    "plt.plot(x, y, lw=2) # plot species colution\n",
    "\n",
    "# Text Formating\n",
    "plt.title('Sine Wave', fontsize = 18)\n",
    "plt.xlabel('x')\n",
    "plt.ylabel('y')\n",
    "\n",
    "# Figure Formating\n",
    "plt.xlim([0,2*np.pi])\n",
    "plt.show()\n"
   ]
  },
  {
   "cell_type": "markdown",
   "metadata": {},
   "source": [
    "### 2.2 Cantera"
   ]
  },
  {
   "cell_type": "markdown",
   "metadata": {},
   "source": [
    "Cantera 2.5.1, the latest stable release, is used in the projects throughout the semester. Ensure the proper version is used."
   ]
  },
  {
   "cell_type": "code",
   "execution_count": null,
   "metadata": {},
   "outputs": [],
   "source": [
    "# Display Cantera version used\n",
    "print(\"Running Cantera Version: \" + str(ct.__version__))"
   ]
  },
  {
   "cell_type": "markdown",
   "metadata": {},
   "source": [
    "The following snippet validates that Cantera is working properly. You should see the equilibrium temperature printed, once the calculation is complete, just below the code cell."
   ]
  },
  {
   "cell_type": "code",
   "execution_count": null,
   "metadata": {},
   "outputs": [],
   "source": [
    "# import gas object with GRI30\n",
    "gas = ct.Solution('gri30.yaml')\n",
    "\n",
    "# Define reactants condition\n",
    "gas.TPX = 300, ct.one_atm, 'CH4:1, O2:2, N2:7.52'\n",
    "\n",
    "# Solve equilibrium problem for adiabatic conditions\n",
    "gas.equilibrate('HP')\n",
    "\n",
    "print('Equilibrium temperature: %.2f K' % gas.T)"
   ]
  },
  {
   "cell_type": "markdown",
   "metadata": {},
   "source": [
    "## Part 3 - Questions"
   ]
  },
  {
   "cell_type": "markdown",
   "metadata": {},
   "source": [
    "### Finding Help. "
   ]
  },
  {
   "cell_type": "markdown",
   "metadata": {},
   "source": [
    "Use the ipython command to display the help message of the gas command."
   ]
  },
  {
   "cell_type": "code",
   "execution_count": null,
   "metadata": {},
   "outputs": [],
   "source": []
  },
  {
   "cell_type": "markdown",
   "metadata": {},
   "source": [
    "From reading the help output, what is the function you would call if you wanted to get the species list?"
   ]
  },
  {
   "cell_type": "code",
   "execution_count": null,
   "metadata": {},
   "outputs": [],
   "source": []
  },
  {
   "cell_type": "markdown",
   "metadata": {},
   "source": [
    "### Debugging"
   ]
  },
  {
   "cell_type": "markdown",
   "metadata": {},
   "source": [
    "Correct the error(s) in the code below."
   ]
  },
  {
   "cell_type": "code",
   "execution_count": null,
   "metadata": {},
   "outputs": [],
   "source": [
    "x = 3.o\n",
    "  Print('x = ', x)"
   ]
  },
  {
   "cell_type": "markdown",
   "metadata": {},
   "source": [
    "### Building a loop"
   ]
  },
  {
   "cell_type": "markdown",
   "metadata": {},
   "source": [
    "Write a for loop that iterates 5 times and prints the iteration value to the screen (that is, on the first pass it should print 0, the second pass should print 1, etc."
   ]
  },
  {
   "cell_type": "code",
   "execution_count": null,
   "metadata": {},
   "outputs": [],
   "source": []
  },
  {
   "cell_type": "markdown",
   "metadata": {},
   "source": [
    "### Adding a second curve to the plot below."
   ]
  },
  {
   "cell_type": "markdown",
   "metadata": {},
   "source": [
    "  Add a cosin wave with double the frequency of the sin wave.  \n",
    "  \n",
    "  Add a label for each curve and show the legend on the chart."
   ]
  },
  {
   "cell_type": "code",
   "execution_count": null,
   "metadata": {},
   "outputs": [],
   "source": [
    "x = np.arange(0,2*np.pi,0.01)\n",
    "y = np.sin(x)\n",
    "\n",
    "\n",
    "# Plot Definition\n",
    "figId = plt.figure(figsize=(10,4))\n",
    "plt.plot(x, y, lw=2) # plot species colution\n",
    "\n",
    "# Text Formating\n",
    "plt.title('Sin-Cos Waves', fontsize = 18)\n",
    "plt.xlabel('x')\n",
    "plt.ylabel('y')\n",
    "\n",
    "# Figure Formating\n",
    "plt.xlim([0,2*np.pi])\n",
    "plt.show()\n"
   ]
  },
  {
   "cell_type": "markdown",
   "metadata": {},
   "source": [
    "## Conclusion"
   ]
  },
  {
   "cell_type": "markdown",
   "metadata": {},
   "source": [
    "Upon completion of Project 0, you should be able to run Jupyter Notebook with a Python kernel and Cantera package. Note that figures must be displayed as *inline* or else they won’t be saved with the notebook.\n",
    "\n",
    "It is very important that you SAVE your Jupyter notebook after all calculations are completed and after all your final edits. Saving you notebook ensures that what you have on the screen is what you will be uploading to myCourse.  \n",
    "\n",
    "Important Note: The Grader will NOT recompile your notebook. It is your responsability to ensure you have saved your notebook and that, when the notebook is reopened, all figures are showing and all calculations are completed."
   ]
  }
 ],
 "metadata": {
  "anaconda-cloud": {},
  "hide_input": false,
  "kernelspec": {
   "display_name": "Python 3 (ipykernel)",
   "language": "python",
   "name": "python3"
  },
  "language_info": {
   "codemirror_mode": {
    "name": "ipython",
    "version": 3
   },
   "file_extension": ".py",
   "mimetype": "text/x-python",
   "name": "python",
   "nbconvert_exporter": "python",
   "pygments_lexer": "ipython3",
   "version": "3.8.17"
  },
  "latex_envs": {
   "LaTeX_envs_menu_present": true,
   "autoclose": false,
   "autocomplete": true,
   "bibliofile": "biblio.bib",
   "cite_by": "apalike",
   "current_citInitial": 1,
   "eqLabelWithNumbers": true,
   "eqNumInitial": 1,
   "hotkeys": {
    "equation": "Ctrl-E",
    "itemize": "Ctrl-I"
   },
   "labels_anchors": false,
   "latex_user_defs": false,
   "report_style_numbering": false,
   "user_envs_cfg": false
  },
  "toc": {
   "nav_menu": {},
   "number_sections": true,
   "sideBar": true,
   "skip_h1_title": false,
   "toc_cell": false,
   "toc_position": {},
   "toc_section_display": "block",
   "toc_window_display": false
  }
 },
 "nbformat": 4,
 "nbformat_minor": 1
}
