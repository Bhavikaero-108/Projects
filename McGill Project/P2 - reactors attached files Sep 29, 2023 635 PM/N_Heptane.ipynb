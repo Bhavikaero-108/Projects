{
 "cells": [
  {
   "cell_type": "code",
   "execution_count": 2,
   "metadata": {},
   "outputs": [
    {
     "name": "stdout",
     "output_type": "stream",
     "text": [
      "Runnning Cantera version: 3.0.0\n"
     ]
    }
   ],
   "source": [
    "#import pandas as pd\n",
    "import numpy as np\n",
    "import time\n",
    "import matplotlib.pyplot as plt\n",
    "import cantera as ct\n",
    "\n",
    "print(f\"Runnning Cantera version: {ct.__version__}\")"
   ]
  },
  {
   "cell_type": "code",
   "execution_count": 5,
   "metadata": {},
   "outputs": [
    {
     "name": "stderr",
     "output_type": "stream",
     "text": [
      "C:\\Users\\bhavik\\AppData\\Local\\Temp\\ipykernel_27156\\3362316807.py:1: UserWarning: NasaPoly2::validate: \n",
      "For species c7h15o-1, discontinuity in h/RT detected at Tmid = 1391\n",
      "\tValue computed using low-temperature polynomial:  21.83428060093267\n",
      "\tValue computed using high-temperature polynomial: 21.76699500201913\n",
      "\n",
      "  gas = ct.Solution(\"Seiser.yaml\")\n"
     ]
    }
   ],
   "source": [
    "gas = ct.Solution(\"Seiser.yaml\")"
   ]
  },
  {
   "cell_type": "code",
   "execution_count": 6,
   "metadata": {},
   "outputs": [],
   "source": [
    "reactor_temperature = 1000  # Kelvin\n",
    "reactor_pressure = 101325  # Pascals\n",
    "\n",
    "gas.TP = reactor_temperature, reactor_pressure\n",
    "\n",
    "# Define the fuel, oxidizer and set the stoichiometry\n",
    "gas.set_equivalence_ratio(phi=1.0, fuel=\"nc7h16\", oxidizer={\"o2\": 1.0, \"n2\": 3.76})\n",
    "\n",
    "# Create a batch reactor object and add it to a reactor network\n",
    "# In this example, the batch reactor will be the only reactor\n",
    "# in the network\n",
    "r = ct.IdealGasReactor(contents=gas, name=\"Batch Reactor\")\n",
    "reactor_network = ct.ReactorNet([r])\n",
    "\n",
    "# use the above list to create a DataFrame\n",
    "time_history = ct.SolutionArray(gas, extra=\"t\")\n"
   ]
  },
  {
   "cell_type": "code",
   "execution_count": 7,
   "metadata": {},
   "outputs": [],
   "source": [
    "def ignition_delay(states, species):\n",
    "    \"\"\"\n",
    "    This function computes the ignition delay from the occurence of the\n",
    "    peak in species' concentration.\n",
    "    \"\"\"\n",
    "    i_ign = states(species).Y.argmax()\n",
    "    return states.t[i_ign]"
   ]
  },
  {
   "cell_type": "code",
   "execution_count": 91,
   "metadata": {},
   "outputs": [
    {
     "name": "stdout",
     "output_type": "stream",
     "text": [
      "Computed Ignition Delay: 3.248e-02 seconds. Took 2.81s to compute\n"
     ]
    }
   ],
   "source": [
    "reference_species = \"oh\"\n",
    "\n",
    "# Tic\n",
    "t0 = time.time()\n",
    "\n",
    "# This is a starting estimate. If you do not get an ignition within this time, increase it\n",
    "estimated_ignition_delay_time = 0.1\n",
    "t = 0\n",
    "\n",
    "counter = 1\n",
    "while t < estimated_ignition_delay_time:\n",
    "    t = reactor_network.step()\n",
    "    if not counter % 10:\n",
    "        # We will save only every 10th value. Otherwise, this takes too long\n",
    "        # Note that the species concentrations are mass fractions\n",
    "        time_history.append(r.thermo.state, t=t)\n",
    "    counter += 1\n",
    "\n",
    "# We will use the 'oh' species to compute the ignition delay\n",
    "tau = ignition_delay(time_history, reference_species)\n",
    "\n",
    "# Toc\n",
    "t1 = time.time()\n",
    "\n",
    "print(f\"Computed Ignition Delay: {tau:.3e} seconds. Took {t1-t0:3.2f}s to compute\")"
   ]
  },
  {
   "cell_type": "code",
   "execution_count": 92,
   "metadata": {},
   "outputs": [
    {
     "data": {
      "text/plain": [
       "(0.0, 0.05)"
      ]
     },
     "execution_count": 92,
     "metadata": {},
     "output_type": "execute_result"
    },
    {
     "data": {
      "image/png": "[encoded data removed]",
      "text/plain": [
       "<Figure size 640x480 with 1 Axes>"
      ]
     },
     "metadata": {},
     "output_type": "display_data"
    }
   ],
   "source": [
    "plt.figure()\n",
    "plt.plot(time_history.t, time_history(reference_species).Y, \"-o\")\n",
    "plt.xlabel(\"Time (s)\")\n",
    "plt.ylabel(\"$Y_{OH}$\")\n",
    "\n",
    "plt.xlim([0, 0.05])"
   ]
  },
  {
   "cell_type": "code",
   "execution_count": 93,
   "metadata": {},
   "outputs": [
    {
     "name": "stdout",
     "output_type": "stream",
     "text": [
      "Computed Ignition Delay: 2.984e-05 seconds for T=3048.1372634219747K. Took 2.55s to compute\n",
      "Computed Ignition Delay: 3.090e-05 seconds for T=3023.4797173450493K. Took 2.67s to compute\n",
      "Computed Ignition Delay: 4.076e-05 seconds for T=2998.377918738475K. Took 3.07s to compute\n",
      "Computed Ignition Delay: 7.168e-05 seconds for T=2972.8347979120367K. Took 3.43s to compute\n",
      "Computed Ignition Delay: 1.646e-04 seconds for T=2946.8586860764713K. Took 2.68s to compute\n",
      "Computed Ignition Delay: 4.749e-04 seconds for T=2920.470343277055K. Took 3.49s to compute\n",
      "Computed Ignition Delay: 1.632e-03 seconds for T=2893.7088662427327K. Took 3.23s to compute\n",
      "Computed Ignition Delay: 6.443e-03 seconds for T=2866.6250019783465K. Took 3.24s to compute\n",
      "Computed Ignition Delay: 3.248e-02 seconds for T=2839.2914938791764K. Took 2.95s to compute\n",
      "Computed Ignition Delay: 5.040e-02 seconds for T=2832.4310152026005K. Took 2.56s to compute\n"
     ]
    },
    {
     "ename": "IndexError",
     "evalue": "index 10 is out of bounds for axis 0 with size 10",
     "output_type": "error",
     "traceback": [
      "\u001b[1;31m---------------------------------------------------------------------------\u001b[0m",
      "\u001b[1;31mIndexError\u001b[0m                                Traceback (most recent call last)",
      "\u001b[1;32md:\\Fall 2023\\Mech 652 Dynamics of combustion\\P2 - reactors attached files Sep 29, 2023 635 PM\\N_Heptane.ipynb Cell 7\u001b[0m line \u001b[0;36m3\n\u001b[0;32m     <a href='vscode-notebook-cell:/d%3A/Fall%202023/Mech%20652%20Dynamics%20of%20combustion/P2%20-%20reactors%20attached%20files%20Sep%2029%2C%202023%20635%20PM/N_Heptane.ipynb#W6sZmlsZQ%3D%3D?line=33'>34</a>\u001b[0m t1 \u001b[39m=\u001b[39m time\u001b[39m.\u001b[39mtime()\n\u001b[0;32m     <a href='vscode-notebook-cell:/d%3A/Fall%202023/Mech%20652%20Dynamics%20of%20combustion/P2%20-%20reactors%20attached%20files%20Sep%2029%2C%202023%20635%20PM/N_Heptane.ipynb#W6sZmlsZQ%3D%3D?line=35'>36</a>\u001b[0m ignition_delays \u001b[39m=\u001b[39m np\u001b[39m.\u001b[39mzeros(\u001b[39m10\u001b[39m, dtype\u001b[39m=\u001b[39m\u001b[39mfloat\u001b[39m)\n\u001b[1;32m---> <a href='vscode-notebook-cell:/d%3A/Fall%202023/Mech%20652%20Dynamics%20of%20combustion/P2%20-%20reactors%20attached%20files%20Sep%2029%2C%202023%20635%20PM/N_Heptane.ipynb#W6sZmlsZQ%3D%3D?line=36'>37</a>\u001b[0m ignition_delays[i] \u001b[39m=\u001b[39m tau\n\u001b[0;32m     <a href='vscode-notebook-cell:/d%3A/Fall%202023/Mech%20652%20Dynamics%20of%20combustion/P2%20-%20reactors%20attached%20files%20Sep%2029%2C%202023%20635%20PM/N_Heptane.ipynb#W6sZmlsZQ%3D%3D?line=37'>38</a>\u001b[0m \u001b[39mprint\u001b[39m(\u001b[39mf\u001b[39m\u001b[39m\"\u001b[39m\u001b[39mComputed Ignition Delay: \u001b[39m\u001b[39m{\u001b[39;00mtau\u001b[39m:\u001b[39;00m\u001b[39m.3e\u001b[39m\u001b[39m}\u001b[39;00m\u001b[39m seconds for T=\u001b[39m\u001b[39m{\u001b[39;00mstate\u001b[39m.\u001b[39mT\u001b[39m}\u001b[39;00m\u001b[39mK. Took \u001b[39m\u001b[39m{\u001b[39;00mt1\u001b[39m \u001b[39m\u001b[39m-\u001b[39m\u001b[39m \u001b[39mt0\u001b[39m:\u001b[39;00m\u001b[39m3.2f\u001b[39m\u001b[39m}\u001b[39;00m\u001b[39ms to compute\u001b[39m\u001b[39m\"\u001b[39m)\n",
      "\u001b[1;31mIndexError\u001b[0m: index 10 is out of bounds for axis 0 with size 10"
     ]
    }
   ],
   "source": [
    "T = np.hstack((np.arange(1800, 900, -100), np.arange(975, 475, -25)))\n",
    "\n",
    "estimated_ignition_delay_times = np.ones_like(T, dtype=float)\n",
    "\n",
    "# Make time adjustments for the highest and lowest temperatures. This we do empirically\n",
    "estimated_ignition_delay_times[:6] = 6 * [0.1]\n",
    "estimated_ignition_delay_times[-4:-2] = 10\n",
    "estimated_ignition_delay_times[-2:] = 100\n",
    "\n",
    "# Now create a SolutionArray out of these\n",
    "ignition_delays = ct.SolutionArray(gas, shape=T.shape, extra={\"tau\": estimated_ignition_delay_times})\n",
    "ignition_delays.set_equivalence_ratio(1.0, fuel=\"nc7h16\", oxidizer={\"o2\": 1.0, \"n2\": 3.76})\n",
    "ignition_delays.TP = T, reactor_pressure\n",
    "\n",
    "for i, state in enumerate(ignition_delays):\n",
    "    # Setup the gas and reactor\n",
    "    gas.TPX = state.TPX\n",
    "    r = ct.IdealGasReactor(contents=gas, name=\"Batch Reactor\")\n",
    "    reactor_network = ct.ReactorNet([r])\n",
    "\n",
    "    reference_species_history = []\n",
    "    time_history = []\n",
    "\n",
    "    t0 = time.time()\n",
    "\n",
    "    t = 0\n",
    "    while t < estimated_ignition_delay_times[i]:\n",
    "        t = reactor_network.step()\n",
    "        time_history.append(t)\n",
    "        reference_species_history.append(gas[reference_species].X[0])\n",
    "\n",
    "    i_ign = np.array(reference_species_history).argmax()\n",
    "    tau = time_history[i_ign]\n",
    "    t1 = time.time()\n",
    "\n",
    "    ignition_delays = np.zeros(10, dtype=float)\n",
    "    ignition_delays[i] = tau\n",
    "    print(f\"Computed Ignition Delay: {tau:.3e} seconds for T={state.T}K. Took {t1 - t0:3.2f}s to compute\")\n"
   ]
  }
 ],
 "metadata": {
  "kernelspec": {
   "display_name": "Python 3 (ipykernel)",
   "language": "python",
   "name": "python3"
  },
  "language_info": {
   "codemirror_mode": {
    "name": "ipython",
    "version": 3
   },
   "file_extension": ".py",
   "mimetype": "text/x-python",
   "name": "python",
   "nbconvert_exporter": "python",
   "pygments_lexer": "ipython3",
   "version": "3.11.3"
  }
 },
 "nbformat": 4,
 "nbformat_minor": 4
}
