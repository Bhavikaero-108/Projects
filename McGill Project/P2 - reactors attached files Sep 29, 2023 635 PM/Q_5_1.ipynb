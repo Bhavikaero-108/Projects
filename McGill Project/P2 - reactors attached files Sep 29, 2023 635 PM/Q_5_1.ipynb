{
 "cells": [
  {
   "cell_type": "code",
   "execution_count": 35,
   "metadata": {},
   "outputs": [
    {
     "name": "stdout",
     "output_type": "stream",
     "text": [
      "Using Cantera version: 3.0.0\n"
     ]
    }
   ],
   "source": [
    "import cantera as ct\n",
    "import numpy as np\n",
    "import matplotlib.pyplot as plt\n",
    "\n",
    "plt.rcParams[\"figure.dpi\"] = 120\n",
    "\n",
    "print(f\"Using Cantera version: {ct.__version__}\")"
   ]
  },
  {
   "cell_type": "code",
   "execution_count": 36,
   "metadata": {},
   "outputs": [],
   "source": [
    "#species = {S.name: S for S in ct.Species.listFromFile(\"\")}\n",
    "phi = 0.39"
   ]
  },
  {
   "cell_type": "code",
   "execution_count": 37,
   "metadata": {},
   "outputs": [
    {
     "name": "stdout",
     "output_type": "stream",
     "text": [
      "1703.2150078473278\n",
      "[5.881866833731338e-06, 0.0022406265329056843]\n"
     ]
    }
   ],
   "source": [
    "gas = ct.Solution(\"Jerzembeck.yaml\")\n",
    "\n",
    "species = {S.name : S for S in ct.Species.list_from_file(\"Jerzembeck.yaml\")}\n",
    "\n",
    "T_incomplete = []\n",
    "#for i in range(len(phi)):\n",
    "gas.TP = 800, 303975\n",
    "gas.set_equivalence_ratio(phi, \"IXC8H18\", \"O2:1, N2:3.76\")\n",
    "gas.equilibrate(\"HP\")\n",
    "T_incomplete = gas.T\n",
    "print(T_incomplete)\n",
    "species = ['CO','NO']\n",
    "conc = []\n",
    "\n",
    "for spec in species :\n",
    "    conc.append(gas[spec].X[0])\n",
    "\n",
    "print(conc)"
   ]
  }
 ],
 "metadata": {
  "kernelspec": {
   "display_name": "cantera",
   "language": "python",
   "name": "python3"
  },
  "language_info": {
   "name": "python",
   "version": "3.11.5"
  },
  "orig_nbformat": 4
 },
 "nbformat": 4,
 "nbformat_minor": 2
}
